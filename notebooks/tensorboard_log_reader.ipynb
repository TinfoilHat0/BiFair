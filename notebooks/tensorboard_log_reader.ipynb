{
 "cells": [
  {
   "cell_type": "code",
   "execution_count": 1,
   "metadata": {},
   "outputs": [],
   "source": [
    "from tensorboard.backend.event_processing import event_accumulator\n",
    "from collections import defaultdict\n",
    "import glob\n",
    "import os\n",
    "import numpy as np\n",
    "import matplotlib\n",
    "import matplotlib.pyplot as plt\n",
    "import csv\n",
    "import seaborn as sns"
   ]
  },
  {
   "cell_type": "code",
   "execution_count": 2,
   "metadata": {},
   "outputs": [],
   "source": [
    "event_files = defaultdict(list)\n",
    "directory = '../src/logs/'\n",
    "log_folders = [x[0] for x in os.walk(directory)][1:]"
   ]
  },
  {
   "cell_type": "code",
   "execution_count": 3,
   "metadata": {},
   "outputs": [],
   "source": [
    "for folder in log_folders:\n",
    "    param_conf = tuple(folder.split('/')[-1].split('_')[1:])\n",
    "    event_file = glob.glob(folder)[0]\n",
    "    event_files[param_conf].append(event_file)"
   ]
  },
  {
   "cell_type": "code",
   "execution_count": 4,
   "metadata": {},
   "outputs": [],
   "source": [
    "tags = ['Metric/Test/BAcc', 'Metric/Test/AOD', 'Metric/Test/EOD', 'Metric/Test/SPD']"
   ]
  },
  {
   "cell_type": "code",
   "execution_count": 5,
   "metadata": {},
   "outputs": [],
   "source": [
    "for k, v in event_files.items():\n",
    "    metrics = defaultdict(list)\n",
    "    for log in v:\n",
    "        ea = event_accumulator.EventAccumulator(log,\n",
    "        size_guidance={ event_accumulator.SCALARS: 0,})\n",
    "        ea.Reload()\n",
    "        for tag in tags:\n",
    "            try:\n",
    "                v = ea.Scalars(tag)\n",
    "                value = v[-1].value\n",
    "                metrics[tag].append(value)\n",
    "            except:\n",
    "                print('err')\n",
    "                #continue\n",
    "            \n",
    "    for k2, v2 in metrics.items():\n",
    "        metrics[k2] = [round(np.mean(v2)*100, 2), round(np.std(v2)*100, 2)]\n",
    "    filename = f\"{directory}/processsed_logs/{k}.txt\"\n",
    "    os.makedirs(os.path.dirname(filename), exist_ok=True)\n",
    "    with open(filename, \"w\") as f:\n",
    "        f.write(str(metrics))"
   ]
  },
  {
   "cell_type": "code",
   "execution_count": null,
   "metadata": {},
   "outputs": [],
   "source": []
  }
 ],
 "metadata": {
  "kernelspec": {
   "display_name": "Python 3.7.3 64-bit ('base': conda)",
   "language": "python",
   "name": "python37364bitbaseconda2893f7c78e4248a9bda8fc39f732a94d"
  },
  "language_info": {
   "codemirror_mode": {
    "name": "ipython",
    "version": 3
   },
   "file_extension": ".py",
   "mimetype": "text/x-python",
   "name": "python",
   "nbconvert_exporter": "python",
   "pygments_lexer": "ipython3",
   "version": "3.8.5"
  }
 },
 "nbformat": 4,
 "nbformat_minor": 4
}
